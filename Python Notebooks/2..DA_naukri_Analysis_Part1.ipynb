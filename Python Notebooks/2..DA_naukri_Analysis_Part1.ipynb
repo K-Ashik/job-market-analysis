{
 "cells": [
  {
   "cell_type": "code",
   "execution_count": null,
   "metadata": {},
   "outputs": [],
   "source": []
  },
  {
   "cell_type": "markdown",
   "metadata": {},
   "source": [
    "### https://www.kaggle.com/hrithikjain49/naukri-com-analysis-of-india"
   ]
  },
  {
   "cell_type": "markdown",
   "metadata": {},
   "source": [
    "####  naukri.com is a recruitment platform that provides hiring-related services to corporates/recruiters, placement agencies and to job seekers in India."
   ]
  },
  {
   "cell_type": "markdown",
   "metadata": {},
   "source": [
    "#### The data set captures the 14 attributes of the job postings that are done between 2015 - 2017\n",
    "    This is naukri.com job portal dataset and it was created by teams at PromptCloud and DataStock. The dataset gives you information about job opportunities published by recruiters and has some importand features or columns such as Industry, Location, Payrate, Experience required in Years etc which can be analysed."
   ]
  },
  {
   "cell_type": "code",
   "execution_count": 18,
   "metadata": {},
   "outputs": [],
   "source": [
    "import numpy as np #for algebric calculations\n",
    "import pandas as pd #essential for data reading,writing etc\n",
    "import seaborn as sns #visualization library\n",
    "import matplotlib.pyplot as plt #visualization library.\n",
    "\n",
    "import warnings\n",
    "warnings.filterwarnings('ignore')"
   ]
  },
  {
   "cell_type": "code",
   "execution_count": 19,
   "metadata": {},
   "outputs": [
    {
     "data": {
      "text/html": [
       "        <script type=\"text/javascript\">\n",
       "        window.PlotlyConfig = {MathJaxConfig: 'local'};\n",
       "        if (window.MathJax) {MathJax.Hub.Config({SVG: {font: \"STIX-Web\"}});}\n",
       "        if (typeof require !== 'undefined') {\n",
       "        require.undef(\"plotly\");\n",
       "        requirejs.config({\n",
       "            paths: {\n",
       "                'plotly': ['https://cdn.plot.ly/plotly-2.4.2.min']\n",
       "            }\n",
       "        });\n",
       "        require(['plotly'], function(Plotly) {\n",
       "            window._Plotly = Plotly;\n",
       "        });\n",
       "        }\n",
       "        </script>\n",
       "        "
      ]
     },
     "metadata": {},
     "output_type": "display_data"
    }
   ],
   "source": [
    "### for entire setup of plotly , u have to install chart_studio along with plotly module..\n",
    "\n",
    "#import chart_studio.plotly as py\n",
    "import plotly.graph_objs as go\n",
    "import numpy as np\n",
    "from plotly.offline import download_plotlyjs, init_notebook_mode, plot, iplot\n",
    "init_notebook_mode(connected=True)"
   ]
  },
  {
   "cell_type": "code",
   "execution_count": 20,
   "metadata": {},
   "outputs": [
    {
     "name": "stdout",
     "output_type": "stream",
     "text": [
      "Python : 3.8.8\n",
      "Numpy : 1.20.1\n",
      "Pandas : 1.2.4\n",
      "Seaborn : 0.11.1\n"
     ]
    }
   ],
   "source": [
    "import sys\n",
    "print('Python : {}'.format(sys.version[0:5]))\n",
    "print('Numpy : {}'.format(np.__version__))\n",
    "print('Pandas : {}'.format(pd.__version__))\n",
    "print('Seaborn : {}'.format(sns.__version__))\n"
   ]
  },
  {
   "cell_type": "code",
   "execution_count": 21,
   "metadata": {},
   "outputs": [],
   "source": [
    "\n",
    "# Define the path of CSV file & import the dataset.\n",
    "\n",
    "df=pd.read_csv(r'F:\\Data Analysis_projects\\Naukri.com\\Updated_data/naukri_data.csv') "
   ]
  },
  {
   "cell_type": "code",
   "execution_count": 22,
   "metadata": {},
   "outputs": [
    {
     "data": {
      "text/html": [
       "<div>\n",
       "<style scoped>\n",
       "    .dataframe tbody tr th:only-of-type {\n",
       "        vertical-align: middle;\n",
       "    }\n",
       "\n",
       "    .dataframe tbody tr th {\n",
       "        vertical-align: top;\n",
       "    }\n",
       "\n",
       "    .dataframe thead th {\n",
       "        text-align: right;\n",
       "    }\n",
       "</style>\n",
       "<table border=\"1\" class=\"dataframe\">\n",
       "  <thead>\n",
       "    <tr style=\"text-align: right;\">\n",
       "      <th></th>\n",
       "      <th>company</th>\n",
       "      <th>education</th>\n",
       "      <th>industry</th>\n",
       "      <th>jobdescription</th>\n",
       "      <th>jobid</th>\n",
       "      <th>joblocation_address</th>\n",
       "      <th>jobtitle</th>\n",
       "      <th>numberofpositions</th>\n",
       "      <th>site_name</th>\n",
       "      <th>skills</th>\n",
       "      <th>min_pay</th>\n",
       "      <th>max_pay</th>\n",
       "      <th>min_exp</th>\n",
       "      <th>max_exp</th>\n",
       "      <th>avg_payrate</th>\n",
       "      <th>avg_experience</th>\n",
       "      <th>day</th>\n",
       "      <th>month</th>\n",
       "      <th>year</th>\n",
       "    </tr>\n",
       "  </thead>\n",
       "  <tbody>\n",
       "    <tr>\n",
       "      <th>0</th>\n",
       "      <td>MM Media Pvt Ltd</td>\n",
       "      <td>UG: B.Tech/B.E. - Any Specialization PG:Any Po...</td>\n",
       "      <td>Media / Entertainment / Internet</td>\n",
       "      <td>Job Description   Send me Jobs like this Quali...</td>\n",
       "      <td>210516002263</td>\n",
       "      <td>Chennai</td>\n",
       "      <td>Walkin Data Entry Operator (night Shift)</td>\n",
       "      <td>NaN</td>\n",
       "      <td>NaN</td>\n",
       "      <td>ITES</td>\n",
       "      <td>150000.0</td>\n",
       "      <td>225000.0</td>\n",
       "      <td>0.0</td>\n",
       "      <td>1.0</td>\n",
       "      <td>187500.0</td>\n",
       "      <td>0.5</td>\n",
       "      <td>21.0</td>\n",
       "      <td>5.0</td>\n",
       "      <td>2016.0</td>\n",
       "    </tr>\n",
       "    <tr>\n",
       "      <th>1</th>\n",
       "      <td>find live infotech</td>\n",
       "      <td>UG: B.Tech/B.E. - Any Specialization PG:MBA/PG...</td>\n",
       "      <td>Advertising / PR / MR / Event Management</td>\n",
       "      <td>Job Description   Send me Jobs like this Quali...</td>\n",
       "      <td>210516002391</td>\n",
       "      <td>Chennai</td>\n",
       "      <td>Work Based Onhome Based Part Time.</td>\n",
       "      <td>60.0</td>\n",
       "      <td>NaN</td>\n",
       "      <td>Marketing</td>\n",
       "      <td>150000.0</td>\n",
       "      <td>250000.0</td>\n",
       "      <td>0.0</td>\n",
       "      <td>0.0</td>\n",
       "      <td>200000.0</td>\n",
       "      <td>0.0</td>\n",
       "      <td>21.0</td>\n",
       "      <td>5.0</td>\n",
       "      <td>2016.0</td>\n",
       "    </tr>\n",
       "  </tbody>\n",
       "</table>\n",
       "</div>"
      ],
      "text/plain": [
       "              company                                          education  \\\n",
       "0    MM Media Pvt Ltd  UG: B.Tech/B.E. - Any Specialization PG:Any Po...   \n",
       "1  find live infotech  UG: B.Tech/B.E. - Any Specialization PG:MBA/PG...   \n",
       "\n",
       "                                   industry  \\\n",
       "0          Media / Entertainment / Internet   \n",
       "1  Advertising / PR / MR / Event Management   \n",
       "\n",
       "                                      jobdescription         jobid  \\\n",
       "0  Job Description   Send me Jobs like this Quali...  210516002263   \n",
       "1  Job Description   Send me Jobs like this Quali...  210516002391   \n",
       "\n",
       "  joblocation_address                                  jobtitle  \\\n",
       "0             Chennai  Walkin Data Entry Operator (night Shift)   \n",
       "1             Chennai        Work Based Onhome Based Part Time.   \n",
       "\n",
       "   numberofpositions site_name     skills   min_pay   max_pay  min_exp  \\\n",
       "0                NaN       NaN       ITES  150000.0  225000.0      0.0   \n",
       "1               60.0       NaN  Marketing  150000.0  250000.0      0.0   \n",
       "\n",
       "   max_exp  avg_payrate  avg_experience   day  month    year  \n",
       "0      1.0     187500.0             0.5  21.0    5.0  2016.0  \n",
       "1      0.0     200000.0             0.0  21.0    5.0  2016.0  "
      ]
     },
     "execution_count": 22,
     "metadata": {},
     "output_type": "execute_result"
    }
   ],
   "source": [
    "df.head(2)"
   ]
  },
  {
   "cell_type": "code",
   "execution_count": 23,
   "metadata": {},
   "outputs": [
    {
     "name": "stdout",
     "output_type": "stream",
     "text": [
      "There are 22000 rows and 19 colunms in the dataset\n"
     ]
    }
   ],
   "source": [
    "# Display the number of rows and columns in the dataset.\n",
    "\n",
    "nrow,ncol=df.shape\n",
    "print(f'There are {nrow} rows and {ncol} colunms in the dataset')"
   ]
  },
  {
   "cell_type": "code",
   "execution_count": null,
   "metadata": {},
   "outputs": [],
   "source": []
  },
  {
   "cell_type": "markdown",
   "metadata": {},
   "source": [
    "### Showcase your missing values "
   ]
  },
  {
   "cell_type": "code",
   "execution_count": 24,
   "metadata": {},
   "outputs": [
    {
     "data": {
      "text/plain": [
       "company                    4\n",
       "education               1996\n",
       "industry                   5\n",
       "jobdescription             4\n",
       "jobid                      0\n",
       "joblocation_address      501\n",
       "jobtitle                   0\n",
       "numberofpositions      17536\n",
       "site_name              18013\n",
       "skills                   528\n",
       "min_pay                17359\n",
       "max_pay                17060\n",
       "min_exp                  116\n",
       "max_exp                  116\n",
       "avg_payrate            17360\n",
       "avg_experience           116\n",
       "day                       23\n",
       "month                     23\n",
       "year                      23\n",
       "dtype: int64"
      ]
     },
     "execution_count": 24,
     "metadata": {},
     "output_type": "execute_result"
    }
   ],
   "source": [
    "count_missing = df.isnull().sum()\n",
    "count_missing"
   ]
  },
  {
   "cell_type": "code",
   "execution_count": null,
   "metadata": {},
   "outputs": [],
   "source": []
  },
  {
   "cell_type": "code",
   "execution_count": 25,
   "metadata": {},
   "outputs": [
    {
     "data": {
      "text/html": [
       "<div>\n",
       "<style scoped>\n",
       "    .dataframe tbody tr th:only-of-type {\n",
       "        vertical-align: middle;\n",
       "    }\n",
       "\n",
       "    .dataframe tbody tr th {\n",
       "        vertical-align: top;\n",
       "    }\n",
       "\n",
       "    .dataframe thead th {\n",
       "        text-align: right;\n",
       "    }\n",
       "</style>\n",
       "<table border=\"1\" class=\"dataframe\">\n",
       "  <thead>\n",
       "    <tr style=\"text-align: right;\">\n",
       "      <th></th>\n",
       "      <th>count</th>\n",
       "      <th>mean</th>\n",
       "      <th>std</th>\n",
       "      <th>min</th>\n",
       "      <th>25%</th>\n",
       "      <th>50%</th>\n",
       "      <th>75%</th>\n",
       "      <th>max</th>\n",
       "    </tr>\n",
       "  </thead>\n",
       "  <tbody>\n",
       "    <tr>\n",
       "      <th>jobid</th>\n",
       "      <td>22000.0</td>\n",
       "      <td>1.561171e+11</td>\n",
       "      <td>9.423956e+10</td>\n",
       "      <td>1.011600e+10</td>\n",
       "      <td>6.121650e+10</td>\n",
       "      <td>1.602169e+11</td>\n",
       "      <td>2.502166e+11</td>\n",
       "      <td>3.112155e+11</td>\n",
       "    </tr>\n",
       "    <tr>\n",
       "      <th>numberofpositions</th>\n",
       "      <td>4464.0</td>\n",
       "      <td>4.511694e+01</td>\n",
       "      <td>1.861972e+02</td>\n",
       "      <td>1.000000e+00</td>\n",
       "      <td>2.000000e+00</td>\n",
       "      <td>4.000000e+00</td>\n",
       "      <td>1.000000e+01</td>\n",
       "      <td>2.000000e+03</td>\n",
       "    </tr>\n",
       "    <tr>\n",
       "      <th>min_pay</th>\n",
       "      <td>4641.0</td>\n",
       "      <td>4.493986e+05</td>\n",
       "      <td>5.509237e+05</td>\n",
       "      <td>1.500000e+01</td>\n",
       "      <td>1.500000e+05</td>\n",
       "      <td>2.500000e+05</td>\n",
       "      <td>5.000000e+05</td>\n",
       "      <td>5.500000e+06</td>\n",
       "    </tr>\n",
       "    <tr>\n",
       "      <th>max_pay</th>\n",
       "      <td>4940.0</td>\n",
       "      <td>7.342964e+05</td>\n",
       "      <td>7.559780e+05</td>\n",
       "      <td>1.000000e+00</td>\n",
       "      <td>3.000000e+05</td>\n",
       "      <td>5.000000e+05</td>\n",
       "      <td>9.000000e+05</td>\n",
       "      <td>8.000000e+06</td>\n",
       "    </tr>\n",
       "    <tr>\n",
       "      <th>min_exp</th>\n",
       "      <td>21884.0</td>\n",
       "      <td>3.600987e+00</td>\n",
       "      <td>3.100532e+00</td>\n",
       "      <td>0.000000e+00</td>\n",
       "      <td>2.000000e+00</td>\n",
       "      <td>3.000000e+00</td>\n",
       "      <td>5.000000e+00</td>\n",
       "      <td>2.600000e+01</td>\n",
       "    </tr>\n",
       "    <tr>\n",
       "      <th>max_exp</th>\n",
       "      <td>21884.0</td>\n",
       "      <td>7.117803e+00</td>\n",
       "      <td>3.923900e+00</td>\n",
       "      <td>0.000000e+00</td>\n",
       "      <td>5.000000e+00</td>\n",
       "      <td>7.000000e+00</td>\n",
       "      <td>9.000000e+00</td>\n",
       "      <td>3.000000e+01</td>\n",
       "    </tr>\n",
       "    <tr>\n",
       "      <th>avg_payrate</th>\n",
       "      <td>4640.0</td>\n",
       "      <td>6.149812e+05</td>\n",
       "      <td>6.442135e+05</td>\n",
       "      <td>1.750000e+01</td>\n",
       "      <td>2.500000e+05</td>\n",
       "      <td>3.750000e+05</td>\n",
       "      <td>7.500000e+05</td>\n",
       "      <td>6.500000e+06</td>\n",
       "    </tr>\n",
       "    <tr>\n",
       "      <th>avg_experience</th>\n",
       "      <td>21884.0</td>\n",
       "      <td>5.359395e+00</td>\n",
       "      <td>3.444409e+00</td>\n",
       "      <td>0.000000e+00</td>\n",
       "      <td>3.000000e+00</td>\n",
       "      <td>4.500000e+00</td>\n",
       "      <td>7.000000e+00</td>\n",
       "      <td>2.800000e+01</td>\n",
       "    </tr>\n",
       "    <tr>\n",
       "      <th>day</th>\n",
       "      <td>21977.0</td>\n",
       "      <td>1.884993e+01</td>\n",
       "      <td>9.751744e+00</td>\n",
       "      <td>1.000000e+00</td>\n",
       "      <td>9.000000e+00</td>\n",
       "      <td>2.200000e+01</td>\n",
       "      <td>2.900000e+01</td>\n",
       "      <td>3.100000e+01</td>\n",
       "    </tr>\n",
       "    <tr>\n",
       "      <th>month</th>\n",
       "      <td>21977.0</td>\n",
       "      <td>7.224189e+00</td>\n",
       "      <td>4.062145e+00</td>\n",
       "      <td>1.000000e+00</td>\n",
       "      <td>3.000000e+00</td>\n",
       "      <td>8.000000e+00</td>\n",
       "      <td>1.100000e+01</td>\n",
       "      <td>1.200000e+01</td>\n",
       "    </tr>\n",
       "    <tr>\n",
       "      <th>year</th>\n",
       "      <td>21977.0</td>\n",
       "      <td>2.015751e+03</td>\n",
       "      <td>4.505767e-01</td>\n",
       "      <td>2.015000e+03</td>\n",
       "      <td>2.015000e+03</td>\n",
       "      <td>2.016000e+03</td>\n",
       "      <td>2.016000e+03</td>\n",
       "      <td>2.017000e+03</td>\n",
       "    </tr>\n",
       "  </tbody>\n",
       "</table>\n",
       "</div>"
      ],
      "text/plain": [
       "                     count          mean           std           min  \\\n",
       "jobid              22000.0  1.561171e+11  9.423956e+10  1.011600e+10   \n",
       "numberofpositions   4464.0  4.511694e+01  1.861972e+02  1.000000e+00   \n",
       "min_pay             4641.0  4.493986e+05  5.509237e+05  1.500000e+01   \n",
       "max_pay             4940.0  7.342964e+05  7.559780e+05  1.000000e+00   \n",
       "min_exp            21884.0  3.600987e+00  3.100532e+00  0.000000e+00   \n",
       "max_exp            21884.0  7.117803e+00  3.923900e+00  0.000000e+00   \n",
       "avg_payrate         4640.0  6.149812e+05  6.442135e+05  1.750000e+01   \n",
       "avg_experience     21884.0  5.359395e+00  3.444409e+00  0.000000e+00   \n",
       "day                21977.0  1.884993e+01  9.751744e+00  1.000000e+00   \n",
       "month              21977.0  7.224189e+00  4.062145e+00  1.000000e+00   \n",
       "year               21977.0  2.015751e+03  4.505767e-01  2.015000e+03   \n",
       "\n",
       "                            25%           50%           75%           max  \n",
       "jobid              6.121650e+10  1.602169e+11  2.502166e+11  3.112155e+11  \n",
       "numberofpositions  2.000000e+00  4.000000e+00  1.000000e+01  2.000000e+03  \n",
       "min_pay            1.500000e+05  2.500000e+05  5.000000e+05  5.500000e+06  \n",
       "max_pay            3.000000e+05  5.000000e+05  9.000000e+05  8.000000e+06  \n",
       "min_exp            2.000000e+00  3.000000e+00  5.000000e+00  2.600000e+01  \n",
       "max_exp            5.000000e+00  7.000000e+00  9.000000e+00  3.000000e+01  \n",
       "avg_payrate        2.500000e+05  3.750000e+05  7.500000e+05  6.500000e+06  \n",
       "avg_experience     3.000000e+00  4.500000e+00  7.000000e+00  2.800000e+01  \n",
       "day                9.000000e+00  2.200000e+01  2.900000e+01  3.100000e+01  \n",
       "month              3.000000e+00  8.000000e+00  1.100000e+01  1.200000e+01  \n",
       "year               2.015000e+03  2.016000e+03  2.016000e+03  2.017000e+03  "
      ]
     },
     "execution_count": 25,
     "metadata": {},
     "output_type": "execute_result"
    }
   ],
   "source": [
    "# a general overview of data\n",
    "# T means Transpose\n",
    "\n",
    "df.describe().T"
   ]
  },
  {
   "cell_type": "code",
   "execution_count": 26,
   "metadata": {},
   "outputs": [
    {
     "data": {
      "text/html": [
       "<div>\n",
       "<style scoped>\n",
       "    .dataframe tbody tr th:only-of-type {\n",
       "        vertical-align: middle;\n",
       "    }\n",
       "\n",
       "    .dataframe tbody tr th {\n",
       "        vertical-align: top;\n",
       "    }\n",
       "\n",
       "    .dataframe thead th {\n",
       "        text-align: right;\n",
       "    }\n",
       "</style>\n",
       "<table border=\"1\" class=\"dataframe\">\n",
       "  <thead>\n",
       "    <tr style=\"text-align: right;\">\n",
       "      <th></th>\n",
       "      <th>count</th>\n",
       "      <th>unique</th>\n",
       "      <th>top</th>\n",
       "      <th>freq</th>\n",
       "    </tr>\n",
       "  </thead>\n",
       "  <tbody>\n",
       "    <tr>\n",
       "      <th>company</th>\n",
       "      <td>21996</td>\n",
       "      <td>8469</td>\n",
       "      <td>Indian Institute of Technology Bombay</td>\n",
       "      <td>403</td>\n",
       "    </tr>\n",
       "    <tr>\n",
       "      <th>education</th>\n",
       "      <td>20004</td>\n",
       "      <td>2355</td>\n",
       "      <td>UG: Any Graduate - Any Specialization, Graduat...</td>\n",
       "      <td>2015</td>\n",
       "    </tr>\n",
       "    <tr>\n",
       "      <th>industry</th>\n",
       "      <td>21995</td>\n",
       "      <td>63</td>\n",
       "      <td>IT-Software / Software Services</td>\n",
       "      <td>9216</td>\n",
       "    </tr>\n",
       "    <tr>\n",
       "      <th>jobdescription</th>\n",
       "      <td>21996</td>\n",
       "      <td>21063</td>\n",
       "      <td>Job Description   Send me Jobs like this Adver...</td>\n",
       "      <td>121</td>\n",
       "    </tr>\n",
       "    <tr>\n",
       "      <th>joblocation_address</th>\n",
       "      <td>21499</td>\n",
       "      <td>2141</td>\n",
       "      <td>Bangalore</td>\n",
       "      <td>5228</td>\n",
       "    </tr>\n",
       "    <tr>\n",
       "      <th>jobtitle</th>\n",
       "      <td>22000</td>\n",
       "      <td>17564</td>\n",
       "      <td>Business Development Executive</td>\n",
       "      <td>93</td>\n",
       "    </tr>\n",
       "    <tr>\n",
       "      <th>site_name</th>\n",
       "      <td>3987</td>\n",
       "      <td>1</td>\n",
       "      <td>www.naukri.com</td>\n",
       "      <td>3987</td>\n",
       "    </tr>\n",
       "    <tr>\n",
       "      <th>skills</th>\n",
       "      <td>21472</td>\n",
       "      <td>45</td>\n",
       "      <td>IT Software - Application Programming</td>\n",
       "      <td>5989</td>\n",
       "    </tr>\n",
       "  </tbody>\n",
       "</table>\n",
       "</div>"
      ],
      "text/plain": [
       "                     count unique  \\\n",
       "company              21996   8469   \n",
       "education            20004   2355   \n",
       "industry             21995     63   \n",
       "jobdescription       21996  21063   \n",
       "joblocation_address  21499   2141   \n",
       "jobtitle             22000  17564   \n",
       "site_name             3987      1   \n",
       "skills               21472     45   \n",
       "\n",
       "                                                                   top  freq  \n",
       "company                          Indian Institute of Technology Bombay   403  \n",
       "education            UG: Any Graduate - Any Specialization, Graduat...  2015  \n",
       "industry                               IT-Software / Software Services  9216  \n",
       "jobdescription       Job Description   Send me Jobs like this Adver...   121  \n",
       "joblocation_address                                          Bangalore  5228  \n",
       "jobtitle                                Business Development Executive    93  \n",
       "site_name                                               www.naukri.com  3987  \n",
       "skills                           IT Software - Application Programming  5989  "
      ]
     },
     "execution_count": 26,
     "metadata": {},
     "output_type": "execute_result"
    }
   ],
   "source": [
    "#Dataset Summary statistics - categorical variables\n",
    "\n",
    "\n",
    "df.describe(include = ['object']).T"
   ]
  },
  {
   "cell_type": "code",
   "execution_count": null,
   "metadata": {},
   "outputs": [],
   "source": []
  },
  {
   "cell_type": "code",
   "execution_count": null,
   "metadata": {},
   "outputs": [],
   "source": []
  },
  {
   "cell_type": "code",
   "execution_count": null,
   "metadata": {},
   "outputs": [],
   "source": []
  },
  {
   "cell_type": "markdown",
   "metadata": {},
   "source": [
    "### Lets perform Bivariate Analysis"
   ]
  },
  {
   "cell_type": "markdown",
   "metadata": {},
   "source": [
    "### Analysis is of 3 types:\n",
    "    1..univariate (One feature is involve)\n",
    "    2..Bi-variate (2 feautres are involve)\n",
    "    3..Multi-variate analysis (more than 2 features are involve)"
   ]
  },
  {
   "cell_type": "markdown",
   "metadata": {},
   "source": [
    "### 1..univariate (One feature is involve)\n",
    "    What is type of available data\n",
    "    distribution of data looks correct or not\n",
    "    Is there any anomilies in data or not?\n",
    "    \n",
    "    \n",
    "    ->> univariate Analysis for continuous features..\n",
    "    we can think of Boxplot ,histogram, distrbution plot & some tabular method like describe func of pd which gives \n",
    "    descriptive statistics.\n",
    "    \n",
    "    ->> univariate Analysis for categorical features..\n",
    "    Frequency distrbutions\n",
    "    Bar chart\n",
    "    Pie chart\n",
    "    Countplot\n",
    "    \n",
    "    \n",
    "    Real World problems:\n",
    "    1..Distribution of max_pay feature.\n",
    "    2..Frequency_distribution of commpany feature\n",
    "    "
   ]
  },
  {
   "cell_type": "raw",
   "metadata": {},
   "source": [
    "Bivariate analysis means the analysis of bivariate data which is the simplest forms of statistical analysis, \n",
    "which used to find out if there is a relationship between two sets of values(ie between the variables X and Y)\n",
    "\n",
    "\n",
    "In statistics, bivariate analysis involves two variables ..\n",
    "\n",
    "\n",
    "cat_features=['company','education','industry','jobdescription']\n",
    "num_features=['min_pay', 'max_pay', 'min_exp','max_exp', 'avg_payrate', 'avg_experience']\n",
    "\n",
    "\n",
    "\n",
    "Case 1 : one is categorical data & another one is numerical data\n",
    "         Following graphs we can think off in such scenarios--\n",
    "         \n",
    "         Bar chart , ,pie chart , tree map , bubble chart , donut chart..\n",
    "         E.g what is the min_pay for different companies?\n",
    "             what is the min_exp u need for different industries?\n",
    "             \n",
    "         \n",
    "           \n",
    "           \n",
    "Case 2 : one is categorical data & another one is also categorical data\n",
    "        It is less used,  so if we have 2 categorical features  , we can think of using chi-square Test..(which is a statistical test\n",
    "        e.g.. does gender have any effect on survival rate?\n",
    "               Make sure one of the feature must be boolean , as survival is boolean here.. either 0 or 1\n",
    "        \n",
    "          \n",
    "\n",
    "         \n",
    "Case 3 : one is numerical data & another one is also numerical data\n",
    "            Co-relation ,regressioon analysis , scatterplot\n",
    "            \n",
    "         ->> Co-relation (How strongly 2 features are co-related with each other)\n",
    "         ->> regression analysis to predict one variable from another (Where we assume we have a strong association or correlation)\n",
    "         ->> Scatterplot between 2 numerical features that simply tells us relationship whether 2 feature linearly related,non\n",
    "             linearly related or un-related"
   ]
  },
  {
   "cell_type": "markdown",
   "metadata": {},
   "source": [
    "### 3..Multivariate analysis (where 3 features are involved)\n",
    "\n",
    "       Real world Problems: Can u find the distribution of minimum pay where skills will from IT & job_location \n",
    "       must be Mumbai.."
   ]
  },
  {
   "cell_type": "code",
   "execution_count": null,
   "metadata": {},
   "outputs": [],
   "source": []
  },
  {
   "cell_type": "code",
   "execution_count": 27,
   "metadata": {},
   "outputs": [],
   "source": [
    "### very first lets find out Categorical variables..\n",
    "## Ways to find categorical variables in a data...\n",
    "\n",
    "### 1..using list comprehension\n",
    "### 2..using list \n",
    "### 3..using select_dtypes in-built function of pandas (Assignment questions)\n",
    "### 4..using dictionary                                (Assignment questions)\n",
    "### 5..using filter & enumeration..                    (Assignment questions)\n",
    "### 6..using _get_numeric_data() to get numeric columns and then find out categorical columns\n",
    "### 7..using filter-in-list                            \n",
    "### 8..using isin\n",
    "\n"
   ]
  },
  {
   "cell_type": "code",
   "execution_count": null,
   "metadata": {},
   "outputs": [],
   "source": []
  },
  {
   "cell_type": "markdown",
   "metadata": {},
   "source": [
    "### 1..find categorical variables using list comprehension"
   ]
  },
  {
   "cell_type": "code",
   "execution_count": 28,
   "metadata": {},
   "outputs": [
    {
     "name": "stdout",
     "output_type": "stream",
     "text": [
      "['company', 'education', 'industry', 'jobdescription', 'joblocation_address', 'jobtitle', 'site_name', 'skills']\n"
     ]
    },
    {
     "data": {
      "text/plain": [
       "\"\\ndf.select_dtypes(include='O').columns\\n\\n\""
      ]
     },
     "execution_count": 28,
     "metadata": {},
     "output_type": "execute_result"
    }
   ],
   "source": [
    "\n",
    "categorical = [col for col in df.columns if df[col].dtype=='object']\n",
    "\n",
    "## categorical= [col for col in df.columns if df[col].dtype=='O']\n",
    "print(categorical)\n",
    "\n"
   ]
  },
  {
   "cell_type": "code",
   "execution_count": null,
   "metadata": {},
   "outputs": [],
   "source": []
  },
  {
   "cell_type": "markdown",
   "metadata": {},
   "source": [
    "### 2..find categorical variables using List"
   ]
  },
  {
   "cell_type": "code",
   "execution_count": null,
   "metadata": {},
   "outputs": [],
   "source": [
    "\n",
    "cat=[]\n",
    "for col in df.columns:\n",
    "    if df[col].dtype=='object':\n",
    "        cat.append(col)\n",
    "\n"
   ]
  },
  {
   "cell_type": "code",
   "execution_count": null,
   "metadata": {},
   "outputs": [],
   "source": []
  },
  {
   "cell_type": "markdown",
   "metadata": {},
   "source": [
    "### 3..find categorical variables using select_dtypes in-built function of pandas (Assignment questions)"
   ]
  },
  {
   "cell_type": "code",
   "execution_count": null,
   "metadata": {},
   "outputs": [],
   "source": [
    "df.select_dtypes(include='O').columns"
   ]
  },
  {
   "cell_type": "code",
   "execution_count": null,
   "metadata": {},
   "outputs": [],
   "source": []
  },
  {
   "cell_type": "code",
   "execution_count": null,
   "metadata": {},
   "outputs": [],
   "source": []
  },
  {
   "cell_type": "markdown",
   "metadata": {},
   "source": [
    "### 4...find categorical variables using dictionary"
   ]
  },
  {
   "cell_type": "code",
   "execution_count": 29,
   "metadata": {},
   "outputs": [
    {
     "data": {
      "text/plain": [
       "['company',\n",
       " 'education',\n",
       " 'industry',\n",
       " 'jobdescription',\n",
       " 'joblocation_address',\n",
       " 'jobtitle',\n",
       " 'site_name',\n",
       " 'skills']"
      ]
     },
     "execution_count": 29,
     "metadata": {},
     "output_type": "execute_result"
    }
   ],
   "source": [
    "\n",
    "[key for key in dict(df.dtypes) if dict(df.dtypes)[key] in ['object'] ]"
   ]
  },
  {
   "cell_type": "code",
   "execution_count": null,
   "metadata": {},
   "outputs": [],
   "source": []
  },
  {
   "cell_type": "code",
   "execution_count": null,
   "metadata": {},
   "outputs": [],
   "source": []
  },
  {
   "cell_type": "markdown",
   "metadata": {},
   "source": [
    "### 5...find categorical variables using filter & enumeration"
   ]
  },
  {
   "cell_type": "code",
   "execution_count": null,
   "metadata": {},
   "outputs": [],
   "source": [
    "categorical_values  = (df.dtypes == 'object') ### returns value in the form of True & False..\n",
    "print([categorical_values.index[index] for index, value in enumerate(categorical_values) if value == True])\n",
    "\n",
    "\n",
    "'''\n",
    "cat_features=[]\n",
    "for idx, value in enumerate(categorical_values):\n",
    "    if value == True:\n",
    "        cat_fe=categorical_values.index[idx]\n",
    "        cat_features.append(cat_fe)\n",
    "\n",
    "'''"
   ]
  },
  {
   "cell_type": "code",
   "execution_count": null,
   "metadata": {},
   "outputs": [],
   "source": []
  },
  {
   "cell_type": "code",
   "execution_count": null,
   "metadata": {},
   "outputs": [],
   "source": []
  },
  {
   "cell_type": "markdown",
   "metadata": {},
   "source": [
    "### 6..find categorical variables using _get_numeric_data() to get numeric columns and then find out categorical columns"
   ]
  },
  {
   "cell_type": "code",
   "execution_count": 31,
   "metadata": {},
   "outputs": [
    {
     "data": {
      "text/plain": [
       "Index(['jobid', 'numberofpositions', 'min_pay', 'max_pay', 'min_exp',\n",
       "       'max_exp', 'avg_payrate', 'avg_experience', 'day', 'month', 'year'],\n",
       "      dtype='object')"
      ]
     },
     "execution_count": 31,
     "metadata": {},
     "output_type": "execute_result"
    }
   ],
   "source": [
    "df._get_numeric_data().columns"
   ]
  },
  {
   "cell_type": "code",
   "execution_count": 32,
   "metadata": {},
   "outputs": [
    {
     "data": {
      "text/plain": [
       "{'company',\n",
       " 'education',\n",
       " 'industry',\n",
       " 'jobdescription',\n",
       " 'joblocation_address',\n",
       " 'jobtitle',\n",
       " 'site_name',\n",
       " 'skills'}"
      ]
     },
     "execution_count": 32,
     "metadata": {},
     "output_type": "execute_result"
    }
   ],
   "source": [
    "set(df.columns) - set(df._get_numeric_data().columns)\n",
    "### [feature for feature in df.columns if feature not in df._get_numeric_data().columns]\n",
    "\n",
    "\n",
    "### set(df.columns) - set(df.describe().columns)\n",
    "### as describe function will only consider our numerical features.."
   ]
  },
  {
   "cell_type": "code",
   "execution_count": null,
   "metadata": {},
   "outputs": [],
   "source": []
  },
  {
   "cell_type": "code",
   "execution_count": null,
   "metadata": {},
   "outputs": [],
   "source": []
  },
  {
   "cell_type": "markdown",
   "metadata": {},
   "source": [
    "### 7..find categorical variables using filter-in-list    "
   ]
  },
  {
   "cell_type": "code",
   "execution_count": 33,
   "metadata": {},
   "outputs": [
    {
     "data": {
      "text/plain": [
       "Index(['company', 'education', 'industry', 'jobdescription',\n",
       "       'joblocation_address', 'jobtitle', 'site_name', 'skills'],\n",
       "      dtype='object')"
      ]
     },
     "execution_count": 33,
     "metadata": {},
     "output_type": "execute_result"
    }
   ],
   "source": [
    "df.dtypes[df.dtypes == 'object'].index"
   ]
  },
  {
   "cell_type": "code",
   "execution_count": null,
   "metadata": {},
   "outputs": [],
   "source": []
  },
  {
   "cell_type": "markdown",
   "metadata": {},
   "source": [
    "### 8..find categorical variables using isin function of pandas"
   ]
  },
  {
   "cell_type": "code",
   "execution_count": 34,
   "metadata": {},
   "outputs": [],
   "source": [
    "### Do you have a mix of 'object' and 'category'? Then use isin\n",
    "### df.dtypes[df.dtypes.isin(['object'])].index"
   ]
  },
  {
   "cell_type": "code",
   "execution_count": 35,
   "metadata": {},
   "outputs": [
    {
     "data": {
      "text/plain": [
       "{'company',\n",
       " 'education',\n",
       " 'industry',\n",
       " 'jobdescription',\n",
       " 'joblocation_address',\n",
       " 'jobtitle',\n",
       " 'site_name',\n",
       " 'skills'}"
      ]
     },
     "execution_count": 35,
     "metadata": {},
     "output_type": "execute_result"
    }
   ],
   "source": [
    "set(df.columns) - set(df.describe().columns)"
   ]
  },
  {
   "cell_type": "code",
   "execution_count": null,
   "metadata": {},
   "outputs": [],
   "source": []
  },
  {
   "cell_type": "code",
   "execution_count": null,
   "metadata": {},
   "outputs": [],
   "source": []
  },
  {
   "cell_type": "code",
   "execution_count": null,
   "metadata": {},
   "outputs": [],
   "source": []
  },
  {
   "cell_type": "code",
   "execution_count": null,
   "metadata": {},
   "outputs": [],
   "source": []
  },
  {
   "cell_type": "code",
   "execution_count": 36,
   "metadata": {},
   "outputs": [],
   "source": [
    "### lets find all the ways to find out numerical features.."
   ]
  },
  {
   "cell_type": "code",
   "execution_count": 37,
   "metadata": {},
   "outputs": [
    {
     "data": {
      "text/plain": [
       "['jobid',\n",
       " 'numberofpositions',\n",
       " 'min_pay',\n",
       " 'max_pay',\n",
       " 'min_exp',\n",
       " 'max_exp',\n",
       " 'avg_payrate',\n",
       " 'avg_experience',\n",
       " 'day',\n",
       " 'month',\n",
       " 'year']"
      ]
     },
     "execution_count": 37,
     "metadata": {},
     "output_type": "execute_result"
    }
   ],
   "source": [
    "numerical=[col for col in df.columns if df[col].dtype!='object']\n",
    "numerical\n",
    "\n",
    "\n",
    "### df.select_dtypes(exclude=[\"object\"])"
   ]
  },
  {
   "cell_type": "code",
   "execution_count": 38,
   "metadata": {},
   "outputs": [
    {
     "data": {
      "text/plain": [
       "\"\\ndf.select_dtypes(include=['int64','int32','int16',float64','float32','float16'])\\n\\nThese are ('int64','int32','int16',float64','float32','float16') data-types in numpy library..\\nInt32 is a 32 bit signed integer , it means it stores both positive & negative values\\nint32 has a length of 32 bits (4 bytes). \\nint32 has has a range of (2³¹ − 1) to  -2^31\\n\\n\\nfloat32 is a 32 bit number ,similarly float64 is a 64 bit number.. \\nfloat64 uses 64 bits.\\nThat means that float64’s take up twice as much memory-and doing operations on them may be a lot slower in some machine architectures.\\nHowever, float64’s can represent numbers much more accurately than 32 bit floats.\\nThey also allow much larger numbers to be stored..\\n\\n\""
      ]
     },
     "execution_count": 38,
     "metadata": {},
     "output_type": "execute_result"
    }
   ],
   "source": [
    "'''\n",
    "df.select_dtypes(include=['int64','int32','int16',float64','float32','float16'])\n",
    "\n",
    "These are ('int64','int32','int16',float64','float32','float16') data-types in numpy library..\n",
    "Int32 is a 32 bit signed integer , it means it stores both positive & negative values\n",
    "int32 has a length of 32 bits (4 bytes). \n",
    "int32 has has a range of (2³¹ − 1) to  -2^31\n",
    "\n",
    "\n",
    "float32 is a 32 bit number ,similarly float64 is a 64 bit number.. \n",
    "float64 uses 64 bits.\n",
    "That means that float64’s take up twice as much memory-and doing operations on them may be a lot slower in some machine architectures.\n",
    "However, float64’s can represent numbers much more accurately than 32 bit floats.\n",
    "They also allow much larger numbers to be stored..\n",
    "\n",
    "'''"
   ]
  },
  {
   "cell_type": "code",
   "execution_count": 39,
   "metadata": {},
   "outputs": [
    {
     "data": {
      "text/plain": [
       "['jobid',\n",
       " 'numberofpositions',\n",
       " 'min_pay',\n",
       " 'max_pay',\n",
       " 'min_exp',\n",
       " 'max_exp',\n",
       " 'avg_payrate',\n",
       " 'avg_experience',\n",
       " 'day',\n",
       " 'month',\n",
       " 'year']"
      ]
     },
     "execution_count": 39,
     "metadata": {},
     "output_type": "execute_result"
    }
   ],
   "source": [
    "[key for key in dict(df.dtypes) if dict(df.dtypes)[key] in ['float64','float32','int32','int64']]"
   ]
  },
  {
   "cell_type": "code",
   "execution_count": null,
   "metadata": {},
   "outputs": [],
   "source": []
  },
  {
   "cell_type": "markdown",
   "metadata": {},
   "source": [
    "### Correlation For Numerical Features"
   ]
  },
  {
   "cell_type": "code",
   "execution_count": 40,
   "metadata": {},
   "outputs": [
    {
     "data": {
      "image/png": "[encoded data removed]",
      "text/plain": [
       "<Figure size 864x432 with 2 Axes>"
      ]
     },
     "metadata": {
      "needs_background": "light"
     },
     "output_type": "display_data"
    }
   ],
   "source": [
    "cor_mat = df.corr()\n",
    "plt.figure(figsize=(12,6))\n",
    "plt.title('Correlation Heatmap of Job Market Analysis of India')\n",
    "sns.heatmap(cor_mat, annot=True,cmap=\"PuOr\", center=0, linewidths=0.08,linecolor=\"magenta\")\n",
    "plt.show()"
   ]
  },
  {
   "cell_type": "code",
   "execution_count": 41,
   "metadata": {},
   "outputs": [],
   "source": [
    "## Interpretation\n",
    "## From the above correlation, we can conclude that :-\n",
    "#### Minimun Pay and Average Payrate variables are highly positively correlated (correlation coefficient = 0.98).\n",
    "#### Minimum Experience and Minimun Payrate variables are also highly positively correlated (correlation coefficient = 0.71)."
   ]
  },
  {
   "cell_type": "code",
   "execution_count": 42,
   "metadata": {},
   "outputs": [
    {
     "data": {
      "text/plain": [
       "jobid               -0.010856\n",
       "numberofpositions   -0.121553\n",
       "min_pay              1.000000\n",
       "max_pay              0.938850\n",
       "min_exp              0.709683\n",
       "max_exp              0.677629\n",
       "avg_payrate          0.979315\n",
       "avg_experience       0.704354\n",
       "day                 -0.009659\n",
       "month               -0.025859\n",
       "year                 0.057210\n",
       "Name: min_pay, dtype: float64"
      ]
     },
     "execution_count": 42,
     "metadata": {},
     "output_type": "execute_result"
    }
   ],
   "source": [
    "## co-relation values with repect to min_pay\n",
    "\n",
    "corr = df.corr()[\"min_pay\"]\n",
    "corr"
   ]
  },
  {
   "cell_type": "code",
   "execution_count": null,
   "metadata": {},
   "outputs": [],
   "source": []
  },
  {
   "cell_type": "code",
   "execution_count": 43,
   "metadata": {},
   "outputs": [],
   "source": [
    "data=df.copy()"
   ]
  },
  {
   "cell_type": "code",
   "execution_count": null,
   "metadata": {},
   "outputs": [],
   "source": []
  },
  {
   "cell_type": "markdown",
   "metadata": {},
   "source": [
    "### Company Based Analysis"
   ]
  },
  {
   "cell_type": "code",
   "execution_count": 44,
   "metadata": {},
   "outputs": [],
   "source": [
    "comp=data['company'].str.strip().value_counts().reset_index()"
   ]
  },
  {
   "cell_type": "code",
   "execution_count": 45,
   "metadata": {},
   "outputs": [],
   "source": [
    "comp.columns=[\"Company\", \"Number of Company\"]"
   ]
  },
  {
   "cell_type": "code",
   "execution_count": 46,
   "metadata": {},
   "outputs": [
    {
     "data": {
      "text/html": [
       "<div>\n",
       "<style scoped>\n",
       "    .dataframe tbody tr th:only-of-type {\n",
       "        vertical-align: middle;\n",
       "    }\n",
       "\n",
       "    .dataframe tbody tr th {\n",
       "        vertical-align: top;\n",
       "    }\n",
       "\n",
       "    .dataframe thead th {\n",
       "        text-align: right;\n",
       "    }\n",
       "</style>\n",
       "<table border=\"1\" class=\"dataframe\">\n",
       "  <thead>\n",
       "    <tr style=\"text-align: right;\">\n",
       "      <th></th>\n",
       "      <th>Company</th>\n",
       "      <th>Number of Company</th>\n",
       "    </tr>\n",
       "  </thead>\n",
       "  <tbody>\n",
       "    <tr>\n",
       "      <th>0</th>\n",
       "      <td>Indian Institute of Technology Bombay</td>\n",
       "      <td>403</td>\n",
       "    </tr>\n",
       "    <tr>\n",
       "      <th>1</th>\n",
       "      <td>Confidential</td>\n",
       "      <td>393</td>\n",
       "    </tr>\n",
       "    <tr>\n",
       "      <th>2</th>\n",
       "      <td>National Institute of Industrial Engineering</td>\n",
       "      <td>185</td>\n",
       "    </tr>\n",
       "    <tr>\n",
       "      <th>3</th>\n",
       "      <td>Oracle India Pvt. Ltd.</td>\n",
       "      <td>151</td>\n",
       "    </tr>\n",
       "    <tr>\n",
       "      <th>4</th>\n",
       "      <td>JPMorgan Chase</td>\n",
       "      <td>135</td>\n",
       "    </tr>\n",
       "  </tbody>\n",
       "</table>\n",
       "</div>"
      ],
      "text/plain": [
       "                                        Company  Number of Company\n",
       "0         Indian Institute of Technology Bombay                403\n",
       "1                                  Confidential                393\n",
       "2  National Institute of Industrial Engineering                185\n",
       "3                        Oracle India Pvt. Ltd.                151\n",
       "4                                JPMorgan Chase                135"
      ]
     },
     "execution_count": 46,
     "metadata": {},
     "output_type": "execute_result"
    }
   ],
   "source": [
    "comp.head()"
   ]
  },
  {
   "cell_type": "code",
   "execution_count": null,
   "metadata": {},
   "outputs": [],
   "source": []
  },
  {
   "cell_type": "code",
   "execution_count": 47,
   "metadata": {},
   "outputs": [
    {
     "data": {
      "text/html": [
       "<style  type=\"text/css\" >\n",
       "#T_12e4a_row0_col1,#T_12e4a_row1_col1{\n",
       "            background-color:  #d9d9d9;\n",
       "            color:  #000000;\n",
       "        }#T_12e4a_row2_col1{\n",
       "            background-color:  #fd8d3c;\n",
       "            color:  #000000;\n",
       "        }#T_12e4a_row3_col1{\n",
       "            background-color:  #c6dbef;\n",
       "            color:  #000000;\n",
       "        }#T_12e4a_row4_col1,#T_12e4a_row5_col1{\n",
       "            background-color:  #9ecae1;\n",
       "            color:  #000000;\n",
       "        }#T_12e4a_row6_col1,#T_12e4a_row7_col1,#T_12e4a_row8_col1,#T_12e4a_row9_col1{\n",
       "            background-color:  #3182bd;\n",
       "            color:  #000000;\n",
       "        }</style><table id=\"T_12e4a_\" ><thead>    <tr>        <th class=\"blank level0\" ></th>        <th class=\"col_heading level0 col0\" >Company</th>        <th class=\"col_heading level0 col1\" >Number of Company</th>    </tr></thead><tbody>\n",
       "                <tr>\n",
       "                        <th id=\"T_12e4a_level0_row0\" class=\"row_heading level0 row0\" >0</th>\n",
       "                        <td id=\"T_12e4a_row0_col0\" class=\"data row0 col0\" >Indian Institute of Technology Bombay</td>\n",
       "                        <td id=\"T_12e4a_row0_col1\" class=\"data row0 col1\" >403</td>\n",
       "            </tr>\n",
       "            <tr>\n",
       "                        <th id=\"T_12e4a_level0_row1\" class=\"row_heading level0 row1\" >1</th>\n",
       "                        <td id=\"T_12e4a_row1_col0\" class=\"data row1 col0\" >Confidential</td>\n",
       "                        <td id=\"T_12e4a_row1_col1\" class=\"data row1 col1\" >393</td>\n",
       "            </tr>\n",
       "            <tr>\n",
       "                        <th id=\"T_12e4a_level0_row2\" class=\"row_heading level0 row2\" >2</th>\n",
       "                        <td id=\"T_12e4a_row2_col0\" class=\"data row2 col0\" >National Institute of Industrial Engineering</td>\n",
       "                        <td id=\"T_12e4a_row2_col1\" class=\"data row2 col1\" >185</td>\n",
       "            </tr>\n",
       "            <tr>\n",
       "                        <th id=\"T_12e4a_level0_row3\" class=\"row_heading level0 row3\" >3</th>\n",
       "                        <td id=\"T_12e4a_row3_col0\" class=\"data row3 col0\" >Oracle India Pvt. Ltd.</td>\n",
       "                        <td id=\"T_12e4a_row3_col1\" class=\"data row3 col1\" >151</td>\n",
       "            </tr>\n",
       "            <tr>\n",
       "                        <th id=\"T_12e4a_level0_row4\" class=\"row_heading level0 row4\" >4</th>\n",
       "                        <td id=\"T_12e4a_row4_col0\" class=\"data row4 col0\" >JPMorgan Chase</td>\n",
       "                        <td id=\"T_12e4a_row4_col1\" class=\"data row4 col1\" >135</td>\n",
       "            </tr>\n",
       "            <tr>\n",
       "                        <th id=\"T_12e4a_level0_row5\" class=\"row_heading level0 row5\" >5</th>\n",
       "                        <td id=\"T_12e4a_row5_col0\" class=\"data row5 col0\" >Godrej Industries Ltd</td>\n",
       "                        <td id=\"T_12e4a_row5_col1\" class=\"data row5 col1\" >125</td>\n",
       "            </tr>\n",
       "            <tr>\n",
       "                        <th id=\"T_12e4a_level0_row6\" class=\"row_heading level0 row6\" >6</th>\n",
       "                        <td id=\"T_12e4a_row6_col0\" class=\"data row6 col0\" >Unitforce technologies Pvt. Ltd.</td>\n",
       "                        <td id=\"T_12e4a_row6_col1\" class=\"data row6 col1\" >100</td>\n",
       "            </tr>\n",
       "            <tr>\n",
       "                        <th id=\"T_12e4a_level0_row7\" class=\"row_heading level0 row7\" >7</th>\n",
       "                        <td id=\"T_12e4a_row7_col0\" class=\"data row7 col0\" >Capgemini</td>\n",
       "                        <td id=\"T_12e4a_row7_col1\" class=\"data row7 col1\" >98</td>\n",
       "            </tr>\n",
       "            <tr>\n",
       "                        <th id=\"T_12e4a_level0_row8\" class=\"row_heading level0 row8\" >8</th>\n",
       "                        <td id=\"T_12e4a_row8_col0\" class=\"data row8 col0\" >HCL Technologies</td>\n",
       "                        <td id=\"T_12e4a_row8_col1\" class=\"data row8 col1\" >95</td>\n",
       "            </tr>\n",
       "            <tr>\n",
       "                        <th id=\"T_12e4a_level0_row9\" class=\"row_heading level0 row9\" >9</th>\n",
       "                        <td id=\"T_12e4a_row9_col0\" class=\"data row9 col0\" >Axis Jobs</td>\n",
       "                        <td id=\"T_12e4a_row9_col1\" class=\"data row9 col1\" >92</td>\n",
       "            </tr>\n",
       "    </tbody></table>"
      ],
      "text/plain": [
       "<pandas.io.formats.style.Styler at 0x1b3a02b07c0>"
      ]
     },
     "execution_count": 47,
     "metadata": {},
     "output_type": "execute_result"
    }
   ],
   "source": [
    "comp.head(10).style.background_gradient(cmap = \"tab20c\")"
   ]
  },
  {
   "cell_type": "code",
   "execution_count": 48,
   "metadata": {},
   "outputs": [],
   "source": [
    "### Let me plot above data"
   ]
  },
  {
   "cell_type": "code",
   "execution_count": 49,
   "metadata": {},
   "outputs": [
    {
     "data": {
      "text/plain": [
       "([0, 1, 2, 3, 4, 5, 6, 7, 8, 9],\n",
       " [Text(0, 0, ''),\n",
       "  Text(0, 0, ''),\n",
       "  Text(0, 0, ''),\n",
       "  Text(0, 0, ''),\n",
       "  Text(0, 0, ''),\n",
       "  Text(0, 0, ''),\n",
       "  Text(0, 0, ''),\n",
       "  Text(0, 0, ''),\n",
       "  Text(0, 0, ''),\n",
       "  Text(0, 0, '')])"
      ]
     },
     "execution_count": 49,
     "metadata": {},
     "output_type": "execute_result"
    },
    {
     "data": {
      "image/png": "[encoded data removed]",
      "text/plain": [
       "<Figure size 1008x432 with 1 Axes>"
      ]
     },
     "metadata": {
      "needs_background": "light"
     },
     "output_type": "display_data"
    }
   ],
   "source": [
    "plt.figure(figsize=(14,6))\n",
    "plt.bar(comp['Company'][0:10], comp['Number of Company'][0:10])\n",
    "plt.xticks(rotation='vertical')"
   ]
  },
  {
   "cell_type": "code",
   "execution_count": 50,
   "metadata": {},
   "outputs": [
    {
     "data": {
      "text/plain": [
       "(array([], dtype=float64), [])"
      ]
     },
     "execution_count": 50,
     "metadata": {},
     "output_type": "execute_result"
    },
    {
     "data": {
      "image/png": "[encoded data removed]",
      "text/plain": [
       "<Figure size 1008x432 with 1 Axes>"
      ]
     },
     "metadata": {},
     "output_type": "display_data"
    }
   ],
   "source": [
    "plt.figure(figsize=(14,6))\n",
    "plt.pie(labels=comp['Company'][0:10], x=comp['Number of Company'][0:10])\n",
    "plt.xticks(rotation='vertical')"
   ]
  },
  {
   "cell_type": "code",
   "execution_count": null,
   "metadata": {},
   "outputs": [],
   "source": []
  },
  {
   "cell_type": "code",
   "execution_count": null,
   "metadata": {},
   "outputs": [],
   "source": []
  },
  {
   "cell_type": "code",
   "execution_count": 51,
   "metadata": {},
   "outputs": [],
   "source": [
    "### Lets try to automate above stuffs"
   ]
  },
  {
   "cell_type": "raw",
   "metadata": {},
   "source": [
    "'''\n",
    "Python documentation strings(or docstrings)provide a convenient way of document your Python modules functions classes and methods.\n",
    "'''"
   ]
  },
  {
   "cell_type": "code",
   "execution_count": 52,
   "metadata": {},
   "outputs": [],
   "source": [
    "def perform_analysis(data ,feature,col1,col2,chart):\n",
    "    '''This will return us plots depending upon whatever chart we want\n",
    "    \n",
    "    Parameters\n",
    "    -------\n",
    "    \n",
    "    data:dataframe \n",
    "    \n",
    "    feature:column_name that we have to consider for analysis\n",
    "    \n",
    "    col1:1st column name that u want to assign to dataframe\n",
    "    \n",
    "    col2:2nd column name that u want to assign to dataframe\n",
    "    \n",
    "    @chart:if value of chart is 1 ,it represents bar chart\n",
    "    @chart:if value of chart is 2 ,it represents pie chart\n",
    "    \n",
    "    '''\n",
    "    dataframe=data[feature].str.strip().value_counts().reset_index()\n",
    "    dataframe.columns=[col1, col2]\n",
    "    print(dataframe.head())\n",
    "    \n",
    "    if chart==1:\n",
    "        \n",
    "        print('\\n This is my bar chart')\n",
    "        plt.figure(figsize=(14,6))\n",
    "        plt.bar(dataframe[col1][0:10], dataframe[col2][0:10])\n",
    "        plt.xticks(rotation='vertical')\n",
    "        \n",
    "    elif chart==2:\n",
    "        \n",
    "        print('\\n This is my pie chart \\n')\n",
    "        plt.figure(figsize=(14,6))\n",
    "        plt.pie(labels=dataframe[col1][0:10], x=dataframe[col2][0:10])\n",
    "        plt.xticks(rotation='vertical')\n",
    "        "
   ]
  },
  {
   "cell_type": "code",
   "execution_count": 53,
   "metadata": {},
   "outputs": [
    {
     "name": "stdout",
     "output_type": "stream",
     "text": [
      "This will return us plots depending upon whatever chart we want\n",
      "    \n",
      "    Parameters\n",
      "    -------\n",
      "    \n",
      "    data:dataframe \n",
      "    \n",
      "    feature:column_name that we have to consider for analysis\n",
      "    \n",
      "    col1:1st column name that u want to assign to dataframe\n",
      "    \n",
      "    col2:2nd column name that u want to assign to dataframe\n",
      "    \n",
      "    @chart:if value of chart is 1 ,it represents bar chart\n",
      "    @chart:if value of chart is 2 ,it represents pie chart\n",
      "    \n",
      "    \n"
     ]
    }
   ],
   "source": [
    "print(perform_analysis.__doc__)"
   ]
  },
  {
   "cell_type": "code",
   "execution_count": 54,
   "metadata": {},
   "outputs": [],
   "source": [
    "### print(pd.read_csv.__doc__)"
   ]
  },
  {
   "cell_type": "code",
   "execution_count": 55,
   "metadata": {},
   "outputs": [
    {
     "name": "stdout",
     "output_type": "stream",
     "text": [
      "                                        Company  Number of Company\n",
      "0         Indian Institute of Technology Bombay                403\n",
      "1                                  Confidential                393\n",
      "2  National Institute of Industrial Engineering                185\n",
      "3                        Oracle India Pvt. Ltd.                151\n",
      "4                                JPMorgan Chase                135\n",
      "\n",
      " This is my pie chart \n",
      "\n"
     ]
    },
    {
     "data": {
      "image/png": "[encoded data removed]",
      "text/plain": [
       "<Figure size 1008x432 with 1 Axes>"
      ]
     },
     "metadata": {},
     "output_type": "display_data"
    }
   ],
   "source": [
    "perform_analysis(data,'company',\"Company\", \"Number of Company\",2)"
   ]
  },
  {
   "cell_type": "code",
   "execution_count": null,
   "metadata": {},
   "outputs": [],
   "source": []
  },
  {
   "cell_type": "code",
   "execution_count": null,
   "metadata": {},
   "outputs": [],
   "source": []
  },
  {
   "cell_type": "code",
   "execution_count": null,
   "metadata": {},
   "outputs": [],
   "source": []
  },
  {
   "cell_type": "markdown",
   "metadata": {},
   "source": [
    "### Industries Based Analysis"
   ]
  },
  {
   "cell_type": "code",
   "execution_count": 56,
   "metadata": {},
   "outputs": [
    {
     "name": "stdout",
     "output_type": "stream",
     "text": [
      "                               industries  no of industry\n",
      "0         IT-Software / Software Services            9216\n",
      "1         Education / Teaching / Training            1322\n",
      "2                BPO / Call Centre / ITES            1254\n",
      "3  Banking / Financial Services / Broking            1238\n",
      "4                  Recruitment / Staffing            1129\n",
      "\n",
      " This is my pie chart \n",
      "\n"
     ]
    },
    {
     "data": {
      "image/png": "[encoded data removed]",
      "text/plain": [
       "<Figure size 1008x432 with 1 Axes>"
      ]
     },
     "metadata": {},
     "output_type": "display_data"
    }
   ],
   "source": [
    "perform_analysis(data,'industry','industries','no of industry',2)"
   ]
  },
  {
   "cell_type": "code",
   "execution_count": null,
   "metadata": {},
   "outputs": [],
   "source": []
  },
  {
   "cell_type": "code",
   "execution_count": null,
   "metadata": {},
   "outputs": [],
   "source": []
  },
  {
   "cell_type": "markdown",
   "metadata": {},
   "source": [
    "### Jobtitle Analysis"
   ]
  },
  {
   "cell_type": "code",
   "execution_count": 57,
   "metadata": {},
   "outputs": [
    {
     "data": {
      "text/plain": [
       "Index(['company', 'education', 'industry', 'jobdescription', 'jobid',\n",
       "       'joblocation_address', 'jobtitle', 'numberofpositions', 'site_name',\n",
       "       'skills', 'min_pay', 'max_pay', 'min_exp', 'max_exp', 'avg_payrate',\n",
       "       'avg_experience', 'day', 'month', 'year'],\n",
       "      dtype='object')"
      ]
     },
     "execution_count": 57,
     "metadata": {},
     "output_type": "execute_result"
    }
   ],
   "source": [
    "data.columns"
   ]
  },
  {
   "cell_type": "code",
   "execution_count": 58,
   "metadata": {},
   "outputs": [
    {
     "name": "stdout",
     "output_type": "stream",
     "text": [
      "                        jobTitles  number of jobs\n",
      "0  Business Development Executive              93\n",
      "1    Business Development Manager              92\n",
      "2               Software Engineer              81\n",
      "3                 Project Manager              67\n",
      "4               Android Developer              65\n",
      "\n",
      " This is my pie chart \n",
      "\n"
     ]
    },
    {
     "data": {
      "image/png": "[encoded data removed]",
      "text/plain": [
       "<Figure size 1008x432 with 1 Axes>"
      ]
     },
     "metadata": {},
     "output_type": "display_data"
    }
   ],
   "source": [
    "perform_analysis(data,'jobtitle' , 'jobTitles','number of jobs',2)"
   ]
  },
  {
   "cell_type": "code",
   "execution_count": 59,
   "metadata": {},
   "outputs": [],
   "source": [
    "### Business Development and Software Engineer are the higest occurring jobtitle"
   ]
  },
  {
   "cell_type": "code",
   "execution_count": null,
   "metadata": {},
   "outputs": [],
   "source": []
  },
  {
   "cell_type": "code",
   "execution_count": null,
   "metadata": {},
   "outputs": [],
   "source": []
  },
  {
   "cell_type": "markdown",
   "metadata": {},
   "source": [
    "### Skills Analysis"
   ]
  },
  {
   "cell_type": "code",
   "execution_count": 60,
   "metadata": {},
   "outputs": [
    {
     "name": "stdout",
     "output_type": "stream",
     "text": [
      "                                  Skills  count\n",
      "0  IT Software - Application Programming   5989\n",
      "1                                  Sales   2893\n",
      "2                                   ITES   1640\n",
      "3                               Teaching   1091\n",
      "4                                     HR    928\n",
      "\n",
      " This is my bar chart\n"
     ]
    },
    {
     "data": {
      "image/png": "[encoded data removed]",
      "text/plain": [
       "<Figure size 1008x432 with 1 Axes>"
      ]
     },
     "metadata": {
      "needs_background": "light"
     },
     "output_type": "display_data"
    }
   ],
   "source": [
    "perform_analysis(data,'skills','Skills','count',1)"
   ]
  },
  {
   "cell_type": "code",
   "execution_count": 61,
   "metadata": {},
   "outputs": [],
   "source": [
    "##IT Software - Application Programming is highly demanded skill"
   ]
  },
  {
   "cell_type": "code",
   "execution_count": null,
   "metadata": {},
   "outputs": [],
   "source": []
  },
  {
   "cell_type": "markdown",
   "metadata": {},
   "source": [
    "### joblocation analysis"
   ]
  },
  {
   "cell_type": "code",
   "execution_count": 62,
   "metadata": {},
   "outputs": [
    {
     "name": "stdout",
     "output_type": "stream",
     "text": [
      "        city  job count\n",
      "0  Bangalore       5228\n",
      "1     Mumbai       2887\n",
      "2      Delhi       2741\n",
      "3  Hyderabad       2182\n",
      "4    Chennai       1204\n",
      "\n",
      " This is my pie chart \n",
      "\n"
     ]
    },
    {
     "data": {
      "image/png": "[encoded data removed]",
      "text/plain": [
       "<Figure size 1008x432 with 1 Axes>"
      ]
     },
     "metadata": {},
     "output_type": "display_data"
    }
   ],
   "source": [
    "perform_analysis(data,'joblocation_address','city','job count',2)"
   ]
  },
  {
   "cell_type": "code",
   "execution_count": null,
   "metadata": {},
   "outputs": [],
   "source": []
  },
  {
   "cell_type": "code",
   "execution_count": null,
   "metadata": {},
   "outputs": [],
   "source": []
  },
  {
   "cell_type": "code",
   "execution_count": null,
   "metadata": {},
   "outputs": [],
   "source": []
  }
 ],
 "metadata": {
  "kernelspec": {
   "display_name": "Python 3",
   "language": "python",
   "name": "python3"
  },
  "language_info": {
   "codemirror_mode": {
    "name": "ipython",
    "version": 3
   },
   "file_extension": ".py",
   "mimetype": "text/x-python",
   "name": "python",
   "nbconvert_exporter": "python",
   "pygments_lexer": "ipython3",
   "version": "3.8.8"
  }
 },
 "nbformat": 4,
 "nbformat_minor": 2
}
